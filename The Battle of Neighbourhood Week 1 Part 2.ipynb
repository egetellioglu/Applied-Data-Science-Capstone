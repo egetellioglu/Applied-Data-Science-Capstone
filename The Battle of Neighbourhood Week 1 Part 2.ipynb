{
    "nbformat_minor": 1, 
    "cells": [
        {
            "source": "### The Battle of the Neighborhoods - Week 1\n\n\nI will be using the below datasets for analysing the data of New York City.\n\nThe city has 5 boroughs and 306 neighborhoods. \nIn order to segment the neighborhoods and explore them, \nwe will essentially need a dataset that contains the 5 \nboroughs and the neighborhoods that exist in each borough as well as the the latitude and logitude coordinates of each neighborhood.\n\nLink to the dataset is given here: https://geo.nyu.edu/catalog/nyu_2451_34572\n        \nMore data will be subtracted from Wikipeadia pages.\n\nNew York City geographical coordinates data will be utilized as input for the Foursquare API, as it before used in the course.", 
            "cell_type": "markdown", 
            "metadata": {
                "collapsed": true
            }
        }, 
        {
            "source": "", 
            "cell_type": "markdown", 
            "metadata": {}
        }
    ], 
    "metadata": {
        "kernelspec": {
            "display_name": "Python 3.6", 
            "name": "python3", 
            "language": "python"
        }, 
        "language_info": {
            "mimetype": "text/x-python", 
            "nbconvert_exporter": "python", 
            "version": "3.6.8", 
            "name": "python", 
            "file_extension": ".py", 
            "pygments_lexer": "ipython3", 
            "codemirror_mode": {
                "version": 3, 
                "name": "ipython"
            }
        }
    }, 
    "nbformat": 4
}