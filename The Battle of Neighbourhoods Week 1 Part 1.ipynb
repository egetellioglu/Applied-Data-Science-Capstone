{
    "nbformat_minor": 1, 
    "cells": [
        {
            "source": "# The Battle of the Neighborhoods - Week 1\u00b6\n\n## Background Introduction/Business Problem\n\nNew York City's food culture includes an array of international cuisines influenced by the city's immigrant history. Central and Eastern European immigrants, especially Jewish immigrants from those regions, brought bagels, cheesecake, hot dogs, knishes, and delicatessens (or delis) to the city. Italian immigrants brought New York-style pizza and Italian cuisine into the city, while Jewish immigrants and Irish immigrants brought pastrami and corned beef, respectively. Chinese and other Asian restaurants, sandwich joints, trattorias, diners, and coffeehouses are ubiquitous throughout the city. Some 4,000 mobile food vendors licensed by the city, many immigrant-owned, have made Middle Eastern foods such as falafel and kebabs[502] examples of modern New York street food.\n\nThereby, when it comes to start a new restaurant in New York City, a prior analysis should be developped, in order to establish a succesful and profitable business.\n\n## Problem Description\n\nMr. York is a wealthy man who wants to open a restaurant which will only deliver one spesific national cuisine. This restaurant can be Italian, Indian, Mexican \nor any other. However, due to the competitiveness and saturation of the market, Mr. York wants to understand which type of restaurant should be opened in which spesific location.\nIn order to forecast of the possible restaurant types, various data should be analyzed. For example, competition of restaurants in different boroughs in New York, demand for certain types of restaurants in boroughs of New York and so on.\n", 
            "cell_type": "markdown", 
            "metadata": {}
        }, 
        {
            "execution_count": null, 
            "cell_type": "code", 
            "metadata": {}, 
            "outputs": [], 
            "source": ""
        }
    ], 
    "metadata": {
        "kernelspec": {
            "display_name": "Python 3.6", 
            "name": "python3", 
            "language": "python"
        }, 
        "language_info": {
            "mimetype": "text/x-python", 
            "nbconvert_exporter": "python", 
            "version": "3.6.8", 
            "name": "python", 
            "file_extension": ".py", 
            "pygments_lexer": "ipython3", 
            "codemirror_mode": {
                "version": 3, 
                "name": "ipython"
            }
        }
    }, 
    "nbformat": 4
}